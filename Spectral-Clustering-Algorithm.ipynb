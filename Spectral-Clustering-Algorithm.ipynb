{
 "cells": [
  {
   "cell_type": "code",
   "execution_count": 1,
   "id": "f21e2c4b",
   "metadata": {},
   "outputs": [
    {
     "data": {
      "text/html": [
       "<div>\n",
       "<style scoped>\n",
       "    .dataframe tbody tr th:only-of-type {\n",
       "        vertical-align: middle;\n",
       "    }\n",
       "\n",
       "    .dataframe tbody tr th {\n",
       "        vertical-align: top;\n",
       "    }\n",
       "\n",
       "    .dataframe thead th {\n",
       "        text-align: right;\n",
       "    }\n",
       "</style>\n",
       "<table border=\"1\" class=\"dataframe\">\n",
       "  <thead>\n",
       "    <tr style=\"text-align: right;\">\n",
       "      <th></th>\n",
       "      <th>Location Latitude</th>\n",
       "      <th>Location Longitude</th>\n",
       "      <th>value</th>\n",
       "    </tr>\n",
       "  </thead>\n",
       "  <tbody>\n",
       "    <tr>\n",
       "      <th>0</th>\n",
       "      <td>53.229648</td>\n",
       "      <td>-1.193654</td>\n",
       "      <td>54.0</td>\n",
       "    </tr>\n",
       "    <tr>\n",
       "      <th>1</th>\n",
       "      <td>53.000467</td>\n",
       "      <td>-1.144629</td>\n",
       "      <td>2.0</td>\n",
       "    </tr>\n",
       "    <tr>\n",
       "      <th>2</th>\n",
       "      <td>53.151023</td>\n",
       "      <td>-0.994262</td>\n",
       "      <td>4.0</td>\n",
       "    </tr>\n",
       "    <tr>\n",
       "      <th>3</th>\n",
       "      <td>52.970298</td>\n",
       "      <td>-1.155705</td>\n",
       "      <td>10.0</td>\n",
       "    </tr>\n",
       "    <tr>\n",
       "      <th>4</th>\n",
       "      <td>53.002265</td>\n",
       "      <td>-0.401439</td>\n",
       "      <td>41.0</td>\n",
       "    </tr>\n",
       "  </tbody>\n",
       "</table>\n",
       "</div>"
      ],
      "text/plain": [
       "   Location Latitude  Location Longitude  value\n",
       "0          53.229648           -1.193654   54.0\n",
       "1          53.000467           -1.144629    2.0\n",
       "2          53.151023           -0.994262    4.0\n",
       "3          52.970298           -1.155705   10.0\n",
       "4          53.002265           -0.401439   41.0"
      ]
     },
     "execution_count": 1,
     "metadata": {},
     "output_type": "execute_result"
    }
   ],
   "source": [
    "import pandas as pd\n",
    "\n",
    "data = pd.read_csv('data.csv')\n",
    "data.head()"
   ]
  },
  {
   "cell_type": "code",
   "execution_count": 2,
   "id": "97ba736c",
   "metadata": {},
   "outputs": [
    {
     "name": "stdout",
     "output_type": "stream",
     "text": [
      "<class 'pandas.core.frame.DataFrame'>\n",
      "RangeIndex: 14590 entries, 0 to 14589\n",
      "Data columns (total 3 columns):\n",
      " #   Column              Non-Null Count  Dtype  \n",
      "---  ------              --------------  -----  \n",
      " 0   Location Latitude   14565 non-null  float64\n",
      " 1   Location Longitude  14565 non-null  float64\n",
      " 2   value               14590 non-null  float64\n",
      "dtypes: float64(3)\n",
      "memory usage: 342.1 KB\n"
     ]
    }
   ],
   "source": [
    "data.info()"
   ]
  },
  {
   "cell_type": "code",
   "execution_count": 2,
   "id": "8e678945",
   "metadata": {},
   "outputs": [
    {
     "data": {
      "text/plain": [
       "Location Latitude     25\n",
       "Location Longitude    25\n",
       "value                  0\n",
       "dtype: int64"
      ]
     },
     "execution_count": 2,
     "metadata": {},
     "output_type": "execute_result"
    }
   ],
   "source": [
    "data.isna().sum()"
   ]
  },
  {
   "cell_type": "code",
   "execution_count": 3,
   "id": "e2f2ab63",
   "metadata": {},
   "outputs": [
    {
     "data": {
      "text/html": [
       "<div>\n",
       "<style scoped>\n",
       "    .dataframe tbody tr th:only-of-type {\n",
       "        vertical-align: middle;\n",
       "    }\n",
       "\n",
       "    .dataframe tbody tr th {\n",
       "        vertical-align: top;\n",
       "    }\n",
       "\n",
       "    .dataframe thead th {\n",
       "        text-align: right;\n",
       "    }\n",
       "</style>\n",
       "<table border=\"1\" class=\"dataframe\">\n",
       "  <thead>\n",
       "    <tr style=\"text-align: right;\">\n",
       "      <th></th>\n",
       "      <th>Location Latitude</th>\n",
       "      <th>Location Longitude</th>\n",
       "    </tr>\n",
       "  </thead>\n",
       "  <tbody>\n",
       "    <tr>\n",
       "      <th>0</th>\n",
       "      <td>53.229648</td>\n",
       "      <td>-1.193654</td>\n",
       "    </tr>\n",
       "    <tr>\n",
       "      <th>1</th>\n",
       "      <td>53.000467</td>\n",
       "      <td>-1.144629</td>\n",
       "    </tr>\n",
       "    <tr>\n",
       "      <th>2</th>\n",
       "      <td>53.151023</td>\n",
       "      <td>-0.994262</td>\n",
       "    </tr>\n",
       "    <tr>\n",
       "      <th>3</th>\n",
       "      <td>52.970298</td>\n",
       "      <td>-1.155705</td>\n",
       "    </tr>\n",
       "    <tr>\n",
       "      <th>4</th>\n",
       "      <td>53.002265</td>\n",
       "      <td>-0.401439</td>\n",
       "    </tr>\n",
       "  </tbody>\n",
       "</table>\n",
       "</div>"
      ],
      "text/plain": [
       "   Location Latitude  Location Longitude\n",
       "0          53.229648           -1.193654\n",
       "1          53.000467           -1.144629\n",
       "2          53.151023           -0.994262\n",
       "3          52.970298           -1.155705\n",
       "4          53.002265           -0.401439"
      ]
     },
     "execution_count": 3,
     "metadata": {},
     "output_type": "execute_result"
    }
   ],
   "source": [
    "data.dropna(inplace=True) # remove NaN values\n",
    "data.drop(columns=['value'], inplace=True) # remove unnecessary `value` column\n",
    "data.head()"
   ]
  },
  {
   "cell_type": "code",
   "execution_count": 5,
   "id": "8ee2a057",
   "metadata": {},
   "outputs": [],
   "source": [
    "import numpy as np\n",
    "from sklearn.cluster import SpectralClustering\n",
    "from sklearn.metrics import pairwise_distances\n",
    "\n",
    "# Define the distance function\n",
    "def vicenty_distance(point1, point2):\n",
    "    lat1, lon1 = np.radians(point1)\n",
    "    lat2, lon2 = np.radians(point2)\n",
    "\n",
    "    dlon = lon2 - lon1\n",
    "    dlat = lat2 - lat1\n",
    "\n",
    "    a = np.sin(dlat / 2) ** 2 + np.cos(lat1) * np.cos(lat2) * np.sin(dlon / 2) ** 2\n",
    "    c = 2 * np.arcsin(np.sqrt(a))\n",
    "\n",
    "    radius = 6371000  # Earth Radius in meters\n",
    "    distance = radius * c\n",
    "    return distance"
   ]
  },
  {
   "cell_type": "code",
   "execution_count": 6,
   "id": "cb32f6c6",
   "metadata": {},
   "outputs": [],
   "source": [
    "# Calculate the pairwise distances using the Vicenty distance function\n",
    "pairwise_matrix = pairwise_distances(data[['Location Latitude', 'Location Longitude']], metric=vicenty_distance)"
   ]
  },
  {
   "cell_type": "code",
   "execution_count": 7,
   "id": "460969a0",
   "metadata": {},
   "outputs": [
    {
     "data": {
      "text/plain": [
       "array([[     0.        ,  25692.95190686,  15902.9493624 , ...,\n",
       "        204129.67627635, 203974.55160411, 192941.40084332],\n",
       "       [ 25692.95190686,      0.        ,  19523.29582365, ...,\n",
       "        179493.09014793, 178987.36756431, 168110.28452304],\n",
       "       [ 15902.9493624 ,  19523.29582365,      0.        , ...,\n",
       "        191146.28466946, 191477.68315959, 180235.55079005],\n",
       "       ...,\n",
       "       [204129.67627635, 179493.09014793, 191146.28466946, ...,\n",
       "             0.        ,  10104.14806845,  12427.42749127],\n",
       "       [203974.55160411, 178987.36756431, 191477.68315959, ...,\n",
       "         10104.14806845,      0.        ,  11883.90189931],\n",
       "       [192941.40084332, 168110.28452304, 180235.55079005, ...,\n",
       "         12427.42749127,  11883.90189931,      0.        ]])"
      ]
     },
     "execution_count": 7,
     "metadata": {},
     "output_type": "execute_result"
    }
   ],
   "source": [
    "pairwise_matrix"
   ]
  },
  {
   "cell_type": "code",
   "execution_count": 13,
   "id": "c9d97151",
   "metadata": {},
   "outputs": [
    {
     "data": {
      "text/plain": [
       "(14565, 14565)"
      ]
     },
     "execution_count": 13,
     "metadata": {},
     "output_type": "execute_result"
    }
   ],
   "source": [
    "pairwise_matrix.shape"
   ]
  },
  {
   "cell_type": "code",
   "execution_count": 11,
   "id": "f41473cb",
   "metadata": {},
   "outputs": [
    {
     "data": {
      "text/plain": [
       "0"
      ]
     },
     "execution_count": 11,
     "metadata": {},
     "output_type": "execute_result"
    }
   ],
   "source": [
    "# checking missing values in the matrix\n",
    "missing_values = np.isnan(pairwise_matrix).sum()\n",
    "missing_values"
   ]
  },
  {
   "cell_type": "code",
   "execution_count": 19,
   "id": "c7edc799",
   "metadata": {},
   "outputs": [],
   "source": [
    "data = data[~np.isnan(pairwise_matrix).any(axis=1)]\n",
    "pairwise_matrix = pairwise_matrix[~np.isnan(pairwise_matrix).any(axis=1)]"
   ]
  },
  {
   "cell_type": "markdown",
   "id": "2a625edb",
   "metadata": {},
   "source": [
    "#### Finding The Right Numbers of Clusters (K)"
   ]
  },
  {
   "cell_type": "code",
   "execution_count": 14,
   "id": "49344306",
   "metadata": {},
   "outputs": [
    {
     "name": "stderr",
     "output_type": "stream",
     "text": [
      "C:\\Users\\User\\AppData\\Roaming\\Python\\Python39\\site-packages\\sklearn\\cluster\\_kmeans.py:1416: FutureWarning: The default value of `n_init` will change from 10 to 'auto' in 1.4. Set the value of `n_init` explicitly to suppress the warning\n",
      "  super()._check_params_vs_input(X, default_n_init=10)\n",
      "C:\\Users\\User\\AppData\\Roaming\\Python\\Python39\\site-packages\\sklearn\\cluster\\_kmeans.py:1416: FutureWarning: The default value of `n_init` will change from 10 to 'auto' in 1.4. Set the value of `n_init` explicitly to suppress the warning\n",
      "  super()._check_params_vs_input(X, default_n_init=10)\n",
      "C:\\Users\\User\\AppData\\Roaming\\Python\\Python39\\site-packages\\sklearn\\cluster\\_kmeans.py:1416: FutureWarning: The default value of `n_init` will change from 10 to 'auto' in 1.4. Set the value of `n_init` explicitly to suppress the warning\n",
      "  super()._check_params_vs_input(X, default_n_init=10)\n",
      "C:\\Users\\User\\AppData\\Roaming\\Python\\Python39\\site-packages\\sklearn\\cluster\\_kmeans.py:1416: FutureWarning: The default value of `n_init` will change from 10 to 'auto' in 1.4. Set the value of `n_init` explicitly to suppress the warning\n",
      "  super()._check_params_vs_input(X, default_n_init=10)\n",
      "C:\\Users\\User\\AppData\\Roaming\\Python\\Python39\\site-packages\\sklearn\\cluster\\_kmeans.py:1416: FutureWarning: The default value of `n_init` will change from 10 to 'auto' in 1.4. Set the value of `n_init` explicitly to suppress the warning\n",
      "  super()._check_params_vs_input(X, default_n_init=10)\n",
      "C:\\Users\\User\\AppData\\Roaming\\Python\\Python39\\site-packages\\sklearn\\cluster\\_kmeans.py:1416: FutureWarning: The default value of `n_init` will change from 10 to 'auto' in 1.4. Set the value of `n_init` explicitly to suppress the warning\n",
      "  super()._check_params_vs_input(X, default_n_init=10)\n"
     ]
    }
   ],
   "source": [
    "from sklearn.cluster import KMeans\n",
    "from sklearn.metrics import silhouette_score\n",
    "\n",
    "k = [3,4,5,6,7,8]\n",
    "inertias = []\n",
    "silhouette_scores = []\n",
    "\n",
    "for k_i in k:\n",
    "    kmeans_i = KMeans(n_clusters=k_i, random_state=42)\n",
    "    kmeans_i.fit(pairwise_matrix)\n",
    "    inertias.append(kmeans_i.inertia_)\n",
    "    silhouette_scores.append(silhouette_score(pairwise_matrix, kmeans_i.labels_))"
   ]
  },
  {
   "cell_type": "code",
   "execution_count": 15,
   "id": "500dc42f",
   "metadata": {},
   "outputs": [
    {
     "data": {
      "image/png": "[encoded data removed]",
      "text/plain": [
       "<Figure size 640x480 with 1 Axes>"
      ]
     },
     "metadata": {},
     "output_type": "display_data"
    }
   ],
   "source": [
    "import matplotlib.pyplot as plt\n",
    "\n",
    "plt.plot(k, inertias, marker='o', linestyle='-', color='b')\n",
    "plt.scatter(k, inertias, color='r') \n",
    "\n",
    "plt.xlabel('Number of Clusters (k)')\n",
    "plt.ylabel('Inertia')\n",
    "plt.title('Elbow Method for Optimal k')\n",
    "\n",
    "plt.show()"
   ]
  },
  {
   "cell_type": "code",
   "execution_count": 16,
   "id": "a9077384",
   "metadata": {},
   "outputs": [
    {
     "data": {
      "image/png": "[encoded data removed]",
      "text/plain": [
       "<Figure size 640x480 with 1 Axes>"
      ]
     },
     "metadata": {},
     "output_type": "display_data"
    }
   ],
   "source": [
    "plt.plot(k, silhouette_scores, marker='o', linestyle='-', color='r') \n",
    "plt.scatter(k, silhouette_scores, color='b')\n",
    "\n",
    "plt.xlabel('Number of Clusters (k)')\n",
    "plt.ylabel('Silhouette Scores')\n",
    "plt.title('Silhouette Score for Optimal K')\n",
    "\n",
    "plt.show()"
   ]
  },
  {
   "cell_type": "markdown",
   "id": "1c419c9d",
   "metadata": {},
   "source": [
    "Both techniques suggest `k=5` is optimal number of cluster"
   ]
  },
  {
   "cell_type": "code",
   "execution_count": 22,
   "id": "c6a2da92",
   "metadata": {},
   "outputs": [
    {
     "name": "stderr",
     "output_type": "stream",
     "text": [
      "C:\\Users\\User\\AppData\\Roaming\\Python\\Python39\\site-packages\\sklearn\\cluster\\_kmeans.py:1416: FutureWarning: The default value of `n_init` will change from 10 to 'auto' in 1.4. Set the value of `n_init` explicitly to suppress the warning\n",
      "  super()._check_params_vs_input(X, default_n_init=10)\n"
     ]
    }
   ],
   "source": [
    "best_k = 5\n",
    "kmeans = KMeans(n_clusters=best_k, random_state=42)\n",
    "cluster_labels = kmeans.fit_predict(pairwise_matrix)\n",
    "data['Cluster'] = cluster_labels"
   ]
  },
  {
   "cell_type": "code",
   "execution_count": 24,
   "id": "fc144c63",
   "metadata": {},
   "outputs": [
    {
     "data": {
      "text/html": [
       "<div>\n",
       "<style scoped>\n",
       "    .dataframe tbody tr th:only-of-type {\n",
       "        vertical-align: middle;\n",
       "    }\n",
       "\n",
       "    .dataframe tbody tr th {\n",
       "        vertical-align: top;\n",
       "    }\n",
       "\n",
       "    .dataframe thead th {\n",
       "        text-align: right;\n",
       "    }\n",
       "</style>\n",
       "<table border=\"1\" class=\"dataframe\">\n",
       "  <thead>\n",
       "    <tr style=\"text-align: right;\">\n",
       "      <th></th>\n",
       "      <th>Location Latitude</th>\n",
       "      <th>Location Longitude</th>\n",
       "      <th>Cluster</th>\n",
       "    </tr>\n",
       "  </thead>\n",
       "  <tbody>\n",
       "    <tr>\n",
       "      <th>0</th>\n",
       "      <td>53.229648</td>\n",
       "      <td>-1.193654</td>\n",
       "      <td>0</td>\n",
       "    </tr>\n",
       "    <tr>\n",
       "      <th>1</th>\n",
       "      <td>53.000467</td>\n",
       "      <td>-1.144629</td>\n",
       "      <td>2</td>\n",
       "    </tr>\n",
       "    <tr>\n",
       "      <th>2</th>\n",
       "      <td>53.151023</td>\n",
       "      <td>-0.994262</td>\n",
       "      <td>2</td>\n",
       "    </tr>\n",
       "    <tr>\n",
       "      <th>3</th>\n",
       "      <td>52.970298</td>\n",
       "      <td>-1.155705</td>\n",
       "      <td>2</td>\n",
       "    </tr>\n",
       "    <tr>\n",
       "      <th>4</th>\n",
       "      <td>53.002265</td>\n",
       "      <td>-0.401439</td>\n",
       "      <td>2</td>\n",
       "    </tr>\n",
       "  </tbody>\n",
       "</table>\n",
       "</div>"
      ],
      "text/plain": [
       "   Location Latitude  Location Longitude  Cluster\n",
       "0          53.229648           -1.193654        0\n",
       "1          53.000467           -1.144629        2\n",
       "2          53.151023           -0.994262        2\n",
       "3          52.970298           -1.155705        2\n",
       "4          53.002265           -0.401439        2"
      ]
     },
     "execution_count": 24,
     "metadata": {},
     "output_type": "execute_result"
    }
   ],
   "source": [
    "data.head()"
   ]
  },
  {
   "cell_type": "code",
   "execution_count": 25,
   "id": "87028435",
   "metadata": {},
   "outputs": [],
   "source": [
    "# saving data with labels\n",
    "data.to_csv(\"labeled_data.csv\", index=False)"
   ]
  }
 ],
 "metadata": {
  "kernelspec": {
   "display_name": "Python 3 (ipykernel)",
   "language": "python",
   "name": "python3"
  },
  "language_info": {
   "codemirror_mode": {
    "name": "ipython",
    "version": 3
   },
   "file_extension": ".py",
   "mimetype": "text/x-python",
   "name": "python",
   "nbconvert_exporter": "python",
   "pygments_lexer": "ipython3",
   "version": "3.9.13"
  }
 },
 "nbformat": 4,
 "nbformat_minor": 5
}
